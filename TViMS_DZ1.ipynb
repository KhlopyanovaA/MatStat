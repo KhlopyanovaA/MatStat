{
  "nbformat": 4,
  "nbformat_minor": 0,
  "metadata": {
    "colab": {
      "provenance": [],
      "toc_visible": true,
      "authorship_tag": "ABX9TyNWC1M2REenXRJBMn7/MExM",
      "include_colab_link": true
    },
    "kernelspec": {
      "name": "python3",
      "display_name": "Python 3"
    },
    "language_info": {
      "name": "python"
    }
  },
  "cells": [
    {
      "cell_type": "markdown",
      "metadata": {
        "id": "view-in-github",
        "colab_type": "text"
      },
      "source": [
        "<a href=\"https://colab.research.google.com/github/KhlopyanovaA/MatStat/blob/main/TViMS_DZ1.ipynb\" target=\"_parent\"><img src=\"https://colab.research.google.com/assets/colab-badge.svg\" alt=\"Open In Colab\"/></a>"
      ]
    },
    {
      "cell_type": "code",
      "execution_count": null,
      "metadata": {
        "id": "a62KSqUm9PAK"
      },
      "outputs": [],
      "source": []
    },
    {
      "cell_type": "markdown",
      "source": [
        "Условие:\n",
        "1. Из колоды в 52 карты извлекаются случайным образом 4 карты. a) Найти вероятность того, что все карты – крести. б) Найти вероятность, что среди 4-х карт окажется хотя бы один туз.\n",
        "2. На входной двери подъезда установлен кодовый замок, содержащий десять кнопок с цифрами от 0 до 9. Код содержит три цифры, которые нужно нажать одновременно. Какова вероятность того, что человек, не знающий код, откроет дверь с первой попытки?\n",
        "3. В ящике имеется 15 деталей, из которых 9 окрашены. Рабочий случайным образом извлекает 3 детали. Какова вероятность того, что все извлеченные детали окрашены?\n",
        "4. В лотерее 100 билетов. Из них 2 выигрышных. Какова вероятность того, что 2 приобретенных билета окажутся выигрышными?"
      ],
      "metadata": {
        "id": "o346k5Ob9YOq"
      }
    },
    {
      "cell_type": "markdown",
      "source": [
        "# Из колоды в 52 карты извлекаются случайным образом 4 карты.\n",
        "# a) Найти вероятность того, что все карты – крести.\n",
        "# б) Найти вероятность, что среди 4-х карт окажется хотя бы один туз."
      ],
      "metadata": {
        "id": "VfVAqhoLD5O8"
      }
    },
    {
      "cell_type": "code",
      "source": [
        "from math import factorial\n",
        "\n",
        "\n",
        "def proba(n, k):\n",
        "    return int(factorial(n) / (factorial(k) * factorial(n - k)))\n",
        "\n",
        "\n",
        "m = proba(13, 4)\n",
        "print(f'm = {m}')\n",
        "n = proba(52, 4)\n",
        "print(f'n = {n}')\n",
        "P = m/n\n",
        "print(f'Вероятность того, что все карты – крести = {round(P,4)}')\n",
        "n = proba(52, 4)\n",
        "print(f'n = {n}')\n",
        "m = sum([proba(4, 1)*proba(48, 3), proba(4, 2) *\n",
        "        proba(48, 2), proba(4, 3)*proba(48, 1), 1])\n",
        "print(f'm = {m}')\n",
        "P = m/n\n",
        "print(\n",
        "    f'Вероятность, что среди 4-х карт окажется хотя бы один туз = {round(P,4)}')"
      ],
      "metadata": {
        "colab": {
          "base_uri": "https://localhost:8080/"
        },
        "id": "qVwnH_o5D9Hp",
        "outputId": "be1faa1d-4ce6-4b16-d15e-87e5f56bfca5"
      },
      "execution_count": 1,
      "outputs": [
        {
          "output_type": "stream",
          "name": "stdout",
          "text": [
            "m = 715\n",
            "n = 270725\n",
            "Вероятность того, что все карты – крести = 0.0026\n",
            "n = 270725\n",
            "m = 76145\n",
            "Вероятность, что среди 4-х карт окажется хотя бы один туз = 0.2813\n"
          ]
        }
      ]
    },
    {
      "cell_type": "markdown",
      "source": [
        "# На входной двери подъезда установлен кодовый замок, содержащий десять кнопок с цифрами от 0 до 9.\n",
        "# Код содержит три цифры, которые нужно нажать одновременно.\n",
        "# Какова вероятность того, что человек, не знающий код, откроет дверь с первой попытки?\n"
      ],
      "metadata": {
        "id": "arrSKL7IEhU3"
      }
    },
    {
      "cell_type": "code",
      "source": [
        "from math import factorial\n",
        "\n",
        "\n",
        "def probability(n, k):\n",
        "    return int(factorial(n) / (factorial(k) * factorial(n - k)))\n",
        "\n",
        "\n",
        "P = 1/probability(10, 3)\n",
        "print(\n",
        "    f'Вероятность того, что человек, не знающий код, откроет дверь с первой попытки = {round(P,4)}')"
      ],
      "metadata": {
        "colab": {
          "base_uri": "https://localhost:8080/"
        },
        "id": "beLbcEqFErwR",
        "outputId": "1c5acead-665a-41ff-dc1c-41459efdad7c"
      },
      "execution_count": 2,
      "outputs": [
        {
          "output_type": "stream",
          "name": "stdout",
          "text": [
            "Вероятность того, что человек, не знающий код, откроет дверь с первой попытки = 0.0083\n"
          ]
        }
      ]
    },
    {
      "cell_type": "markdown",
      "source": [
        "# В ящике имеется 15 деталей, из которых 9 окрашены. Рабочий случайным образом извлекает 3 детали.\n",
        "# Какова вероятность того, что все извлеченные детали окрашены?"
      ],
      "metadata": {
        "id": "2V1NtYXNE0SO"
      }
    },
    {
      "cell_type": "code",
      "source": [
        "from math import factorial\n",
        "\n",
        "\n",
        "def probability(n, k):\n",
        "    return int(factorial(n) / (factorial(k) * factorial(n - k)))\n",
        "\n",
        "\n",
        "P = probability(9, 3)/probability(15, 3)\n",
        "print(f'Вероятность того, что все извлеченные детали окрашены = {round(P,4)}')"
      ],
      "metadata": {
        "colab": {
          "base_uri": "https://localhost:8080/"
        },
        "id": "yPD1ZpM-FFvb",
        "outputId": "a2b2c6af-517a-4fde-d3a4-51dd69359ed0"
      },
      "execution_count": 3,
      "outputs": [
        {
          "output_type": "stream",
          "name": "stdout",
          "text": [
            "Вероятность того, что все извлеченные детали окрашены = 0.1846\n"
          ]
        }
      ]
    },
    {
      "cell_type": "markdown",
      "source": [
        "# В лотерее 100 билетов. Из них 2 выигрышных. Какова вероятность того, что 2 приобретенных билета окажутся выигрышными?"
      ],
      "metadata": {
        "id": "P4HaLEV7FQbp"
      }
    },
    {
      "cell_type": "code",
      "source": [
        "from math import factorial\n",
        "\n",
        "\n",
        "def probability(n, k):\n",
        "    return int(factorial(n) / (factorial(k) * factorial(n - k)))\n",
        "\n",
        "\n",
        "P = 1/probability(100, 2)\n",
        "print(\n",
        "    f'Вероятность того, что 2 приобретенных билета окажутся выигрышными = {round(P,4)}')"
      ],
      "metadata": {
        "colab": {
          "base_uri": "https://localhost:8080/"
        },
        "id": "gOVEGG8yFXKy",
        "outputId": "aaa5e7d3-262d-464d-e8f1-caaa9d0f183b"
      },
      "execution_count": 4,
      "outputs": [
        {
          "output_type": "stream",
          "name": "stdout",
          "text": [
            "Вероятность того, что 2 приобретенных билета окажутся выигрышными = 0.0002\n"
          ]
        }
      ]
    }
  ]
}