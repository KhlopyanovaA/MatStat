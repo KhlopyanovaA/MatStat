{
  "cells": [
    {
      "cell_type": "markdown",
      "metadata": {
        "id": "view-in-github",
        "colab_type": "text"
      },
      "source": [
        "<a href=\"https://colab.research.google.com/github/KhlopyanovaA/MatStat/blob/main/TViMS_DZ7.ipynb\" target=\"_parent\"><img src=\"https://colab.research.google.com/assets/colab-badge.svg\" alt=\"Open In Colab\"/></a>"
      ]
    },
    {
      "cell_type": "code",
      "execution_count": 2,
      "metadata": {
        "id": "zjdtNAtuib4r"
      },
      "outputs": [],
      "source": [
        "import numpy as np\n",
        "import scipy.stats as stats\n",
        "import matplotlib.pyplot as plt"
      ]
    },
    {
      "cell_type": "markdown",
      "metadata": {
        "id": "Ww205hgGib4v"
      },
      "source": [
        "1.  Даны две  независимые выборки. Не соблюдается условие нормальности\n",
        "x1  380,420, 290\n",
        "y1 140,360,200,900\n",
        "Сделайте вывод по результатам, полученным с помощью функции"
      ]
    },
    {
      "cell_type": "code",
      "execution_count": 3,
      "metadata": {
        "colab": {
          "base_uri": "https://localhost:8080/"
        },
        "id": "zDk3kgzyib4x",
        "outputId": "7e0915db-9373-49f2-e143-b92a8190993f"
      },
      "outputs": [
        {
          "output_type": "stream",
          "name": "stdout",
          "text": [
            "\n",
            "\u001b[33m Статистика = 8.00 \n",
            " Р-value    = 0.629\n",
            " P-value    = 0.6285714285714286 > alpha, применяем нулевую гипотезу. Статистически значимых различий нет.\n"
          ]
        }
      ],
      "source": [
        "alpha = 0.05\n",
        "x1 = np.array([380, 420, 290])\n",
        "y1 = np.array([140, 360, 200, 900])\n",
        "d = stats.mannwhitneyu(x1, y1)\n",
        "print('\\n\\033[33m Статистика = %.2f \\n Р-value    = %.3f' % (d))\n",
        "s, p = stats.mannwhitneyu(x1, y1)\n",
        "print(' P-value    = 0.6285714285714286 > alpha, применяем нулевую гипотезу. Статистически значимых различий нет.')\n"
      ]
    },
    {
      "cell_type": "markdown",
      "metadata": {
        "id": "4GjfV8l4ib4z"
      },
      "source": [
        "2. Исследовалось влияние препарата на уровень давления пациентов. Сначала измерялось давление до приема препарата, потом через 10 минут и через 30 минут. Есть ли статистически значимые различия?\n",
        "1е измерение до приема препарата: 150, 160, 165, 145, 155\n",
        "2е измерение через 10 минут: 140, 155, 150,  130, 135\n",
        "3е измерение через 30 минут: 130, 130, 120, 130, 125"
      ]
    },
    {
      "cell_type": "code",
      "execution_count": 4,
      "metadata": {
        "colab": {
          "base_uri": "https://localhost:8080/"
        },
        "id": "OHJCOkiyib40",
        "outputId": "92a0158e-9a43-4c64-b89e-bfc7274c21cb"
      },
      "outputs": [
        {
          "output_type": "stream",
          "name": "stdout",
          "text": [
            "\n",
            "\u001b[31m Статистика = 9.58 \n",
            " Р-value    = 0.008\n",
            " P-value    = 0.00831683351100441 < alpha, применяем альтернативную гипотезу. Статистически значимые различия есть. \n",
            " Исследование показало, что препарат влияет на уровень давления пациентов.\n"
          ]
        }
      ],
      "source": [
        "alpha = 0.05\n",
        "m1 = np.array([150, 160, 165, 145, 155])\n",
        "m2 = np.array([140, 155, 150, 130, 135])\n",
        "m3 = np.array([130, 130, 120, 130, 125])\n",
        "d = stats.friedmanchisquare(m1, m2, m3)\n",
        "print('\\n\\033[31m Статистика = %.2f \\n Р-value    = %.3f' % (d))\n",
        "s, p = stats.friedmanchisquare(m1, m2, m3)\n",
        "print(' P-value    = 0.00831683351100441 < alpha, применяем альтернативную гипотезу. Статистически значимые различия есть. \\n Исследование показало, что препарат влияет на уровень давления пациентов.')\n"
      ]
    },
    {
      "cell_type": "markdown",
      "metadata": {
        "id": "Gbhpu0UMib41"
      },
      "source": [
        "3. Сравните 1 и 2 е измерения, предполагая, что 3го измерения через 30 минут не было."
      ]
    },
    {
      "cell_type": "code",
      "execution_count": 5,
      "metadata": {
        "colab": {
          "base_uri": "https://localhost:8080/"
        },
        "id": "eJ25Edv6ib41",
        "outputId": "3425e9d0-bc24-484e-fcc8-5cb831d18936"
      },
      "outputs": [
        {
          "output_type": "stream",
          "name": "stdout",
          "text": [
            "\n",
            "\u001b[34m Статистика = 0.00 \n",
            " Р-value    = 0.062\n",
            " Cтатистически значимых различий нет, нулевая гипотеза не отвергается, препарат не влияет на давление.\n"
          ]
        }
      ],
      "source": [
        "alpha = 0.05\n",
        "measurement_1 = np.array([150, 160, 165, 145, 155])\n",
        "measurement_2 = np.array([140, 155, 150, 130, 135])\n",
        "d = stats.wilcoxon(measurement_1, measurement_2)\n",
        "print('\\n\\033[34m Статистика = %.2f \\n Р-value    = %.3f' % (d))\n",
        "s, p = stats.wilcoxon(measurement_1, measurement_2)\n",
        "if p > alpha:\n",
        "    print(' Cтатистически значимых различий нет, нулевая гипотеза не отвергается, препарат не влияет на давление.')\n",
        "else:\n",
        "    print(' Cтатистически значимые различия присутствуют, нулевую гипотезу отвергаем, препарат влияет на давление.')\n"
      ]
    },
    {
      "cell_type": "markdown",
      "metadata": {
        "id": "KUSQ9jO0ib42"
      },
      "source": [
        "4. Даны 3 группы  учеников плавания.\n",
        "В 1 группе время на дистанцию 50 м составляют:\n",
        "56, 60, 62, 55, 71, 67, 59, 58, 64, 67\n",
        "Вторая группа : 57, 58, 69, 48, 72, 70, 68, 71, 50, 53\n",
        "Третья группа: 57, 67, 49, 48, 47, 55, 66, 51, 54"
      ]
    },
    {
      "cell_type": "code",
      "execution_count": 6,
      "metadata": {
        "colab": {
          "base_uri": "https://localhost:8080/"
        },
        "id": "Oxpx4ZlRib42",
        "outputId": "7f2edcf2-dc6c-44b7-cc8a-6bf971f89822"
      },
      "outputs": [
        {
          "output_type": "stream",
          "name": "stdout",
          "text": [
            "\n",
            "\u001b[33m Статистика = 5.47 \n",
            " Р-value    = 0.065\n",
            " Cтатистически значимых различий нет, нулевая гипотеза не отвергается, время на дистанцию одинаковое.\n"
          ]
        }
      ],
      "source": [
        "alpha = 0.05\n",
        "x1 = np.array([56, 60, 62, 55, 71, 67, 59, 58, 64, 67])\n",
        "x2 = np.array([57, 58, 69, 48, 72, 70, 68, 71, 50, 53])\n",
        "x3 = np.array([57, 67, 49, 48, 47, 55, 66, 51, 54])\n",
        "d = stats.kruskal(x1, x2, x3)\n",
        "print('\\n\\033[33m Статистика = %.2f \\n Р-value    = %.3f' % (d))\n",
        "s, p = stats.kruskal(x1, x2, x3)\n",
        "if p > alpha:\n",
        "    print(' Cтатистически значимых различий нет, нулевая гипотеза не отвергается, время на дистанцию одинаковое.')\n",
        "else:\n",
        "    print(' Cтатистически значимые различия присутствуют, нулевую гипотезу отвергаем, время на дистанцию не одинаковое.')\n"
      ]
    },
    {
      "cell_type": "markdown",
      "metadata": {
        "id": "Mwxy4jzNib43"
      },
      "source": [
        "5. Заявляется, что партия изготавливается со средним арифметическим 2,5 см. Проверить данную гипотезу, если известно, что размеры изделий подчинены нормальному закону распределения. Объем выборки 10, уровень статистической значимости 5%\n",
        "2.51, 2.35, 2.74, 2.56, 2.40, 2.36, 2.65, 2.7, 2.67, 2.34"
      ]
    },
    {
      "cell_type": "markdown",
      "metadata": {
        "id": "xuK1R7fLib44"
      },
      "source": [
        "    Формируем нулевую гипотезу: средний размер изделий равен 2.5 см.  \n",
        "$H_0$ :  $М = 2,5$  \n",
        "\n",
        "    Формируем альтернативную гипотезу: средний размер изделий не равен 2.5 см.  \n",
        "$H_1$ :  $М \\neq 2,5$\n",
        "\n",
        "    Находим среднее арифметическое размеров изделий в выборке:  \n",
        "$\\overline{x} = \\frac{\\sum\\limits_{i=1}^{n} x_i}{n}$\n",
        "\n",
        "    Находим стандартное отклонение:\n",
        "$s = \\sqrt{\\frac{\\sum\\limits_{i=1}^{n} (x_i - \\overline{x})^2}{n-1}}$\n",
        "\n",
        "    Вычисляем t-статистику:  \n",
        "$t = \\frac{\\overline{x} - 2.5}{\\frac{s}{\\sqrt{n}}}$\n",
        "\n",
        "    Определяем критическую область выборки для уровня статистической значимости 5%:  \n",
        "    Сравниваем t-статистику с t-критическим. Если t-статистика попадает в критическую область, то нулевая гипотеза отвергается.  \n",
        "Делаем вывод:\n",
        "  \n",
        "    Если t-статистика меньше t-критического, то гипотеза не отвергается.  \n",
        "    Если t-статистика больше t-критического, то гипотеза отвергается."
      ]
    },
    {
      "cell_type": "code",
      "execution_count": 7,
      "metadata": {
        "colab": {
          "base_uri": "https://localhost:8080/"
        },
        "id": "WcaJ6pd1ib45",
        "outputId": "4ea7355c-65e7-4752-91ee-6ccec638f8eb"
      },
      "outputs": [
        {
          "output_type": "stream",
          "name": "stdout",
          "text": [
            "\u001b[34m Нулевая гипотеза не отвергается, партия изготавливается со средним арифметическим 2,5 см.\n"
          ]
        },
        {
          "output_type": "execute_result",
          "data": {
            "text/plain": [
              "(2.5279999999999996,\n",
              " 0.1572542173961923,\n",
              " 0.5630613661802959,\n",
              " 1.8331129326536335)"
            ]
          },
          "metadata": {},
          "execution_count": 7
        }
      ],
      "source": [
        "alpha = 0.05\n",
        "data = [2.51, 2.35, 2.74, 2.56, 2.40, 2.36, 2.65, 2.7, 2.67, 2.34]\n",
        "n = len(data)\n",
        "mean = np.mean(data)\n",
        "std = np.std(data, ddof=1)\n",
        "t_stat = (mean - 2.5) / (std / np.sqrt(10))\n",
        "t_critical = stats.t.ppf(1 - alpha, n-1)\n",
        "if t_stat < t_critical:\n",
        "    print(\"\\033[34m Нулевая гипотеза не отвергается, партия изготавливается со средним арифметическим 2,5 см.\")\n",
        "else:\n",
        "    print(\"Нулевая гипотеза отвергается, партия изготавливается со средним арифметическим не равным 2,5 см.\")\n",
        "\n",
        "mean, std, t_stat, t_critical"
      ]
    }
  ],
  "metadata": {
    "kernelspec": {
      "display_name": "Python 3",
      "language": "python",
      "name": "python3"
    },
    "language_info": {
      "codemirror_mode": {
        "name": "ipython",
        "version": 3
      },
      "file_extension": ".py",
      "mimetype": "text/x-python",
      "name": "python",
      "nbconvert_exporter": "python",
      "pygments_lexer": "ipython3",
      "version": "3.11.0"
    },
    "orig_nbformat": 4,
    "colab": {
      "provenance": [],
      "include_colab_link": true
    }
  },
  "nbformat": 4,
  "nbformat_minor": 0
}