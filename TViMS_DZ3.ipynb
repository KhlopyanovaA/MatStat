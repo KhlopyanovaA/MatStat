{
  "nbformat": 4,
  "nbformat_minor": 0,
  "metadata": {
    "colab": {
      "provenance": [],
      "authorship_tag": "ABX9TyPnyO6gKgqvaMt1L1GIiSJP",
      "include_colab_link": true
    },
    "kernelspec": {
      "name": "python3",
      "display_name": "Python 3"
    },
    "language_info": {
      "name": "python"
    }
  },
  "cells": [
    {
      "cell_type": "markdown",
      "metadata": {
        "id": "view-in-github",
        "colab_type": "text"
      },
      "source": [
        "<a href=\"https://colab.research.google.com/github/KhlopyanovaA/MatStat/blob/main/TViMS_DZ3.ipynb\" target=\"_parent\"><img src=\"https://colab.research.google.com/assets/colab-badge.svg\" alt=\"Open In Colab\"/></a>"
      ]
    },
    {
      "cell_type": "code",
      "execution_count": null,
      "metadata": {
        "id": "n2GALTRUG0N-"
      },
      "outputs": [],
      "source": []
    },
    {
      "cell_type": "markdown",
      "source": [
        "Даны значения зарплат из выборки выпускников: 100, 80, 75, 77, 89, 33, 45, 25, 65, 17, 30, 24, 57, 55, 70, 75, 65, 84, 90, 150. Посчитать (желательно без использования статистических методов наподобие std, var, mean) среднее арифметическое, среднее квадратичное отклонение, смещенную и несмещенную оценки дисперсий для данной выборки."
      ],
      "metadata": {
        "id": "7Muwo7_dISm7"
      }
    },
    {
      "cell_type": "code",
      "source": [
        "import numpy as np\n",
        "from math import factorial as fl"
      ],
      "metadata": {
        "id": "WMt1UOinIUjC"
      },
      "execution_count": 1,
      "outputs": []
    },
    {
      "cell_type": "code",
      "source": [
        "def combinations(k, n):\n",
        "    return fl(n) / (fl(k) * fl(n - k))"
      ],
      "metadata": {
        "id": "C33M-IiUIl8P"
      },
      "execution_count": 2,
      "outputs": []
    },
    {
      "cell_type": "code",
      "source": [
        "salaries = np.array([100, 80, 75, 77, 89, 33, 45, 25, 65, 17, 30, 24, 57, 55, 70, 75, 65, 84, 90, 150])"
      ],
      "metadata": {
        "id": "sqfaPPTjIvRZ"
      },
      "execution_count": 3,
      "outputs": []
    },
    {
      "cell_type": "code",
      "source": [
        "salaries_mean = salaries.sum() / salaries.size"
      ],
      "metadata": {
        "id": "ClfubJ5lI4u6"
      },
      "execution_count": 4,
      "outputs": []
    },
    {
      "cell_type": "code",
      "source": [
        "(np.sum((salaries - salaries_mean)**2) / salaries.size)**0.5"
      ],
      "metadata": {
        "colab": {
          "base_uri": "https://localhost:8080/"
        },
        "id": "tdaULwuGI6h5",
        "outputId": "1dd83422-db9d-4597-b85f-d9378611d9ed"
      },
      "execution_count": 5,
      "outputs": [
        {
          "output_type": "execute_result",
          "data": {
            "text/plain": [
              "30.823854398825596"
            ]
          },
          "metadata": {},
          "execution_count": 5
        }
      ]
    },
    {
      "cell_type": "code",
      "source": [
        "np.sum((salaries - salaries_mean)**2) / salaries.size"
      ],
      "metadata": {
        "colab": {
          "base_uri": "https://localhost:8080/"
        },
        "id": "WF9XQcauJFbz",
        "outputId": "aa08744e-fcef-4970-a3cc-c468461b502c"
      },
      "execution_count": 6,
      "outputs": [
        {
          "output_type": "execute_result",
          "data": {
            "text/plain": [
              "950.11"
            ]
          },
          "metadata": {},
          "execution_count": 6
        }
      ]
    },
    {
      "cell_type": "code",
      "source": [
        "np.sum((salaries - salaries_mean)**2) / (salaries.size - 1)"
      ],
      "metadata": {
        "colab": {
          "base_uri": "https://localhost:8080/"
        },
        "id": "DZXkib4fJG3f",
        "outputId": "0d72be39-ce31-454a-8a53-2e6a0c14b840"
      },
      "execution_count": 7,
      "outputs": [
        {
          "output_type": "execute_result",
          "data": {
            "text/plain": [
              "1000.1157894736842"
            ]
          },
          "metadata": {},
          "execution_count": 7
        }
      ]
    },
    {
      "cell_type": "markdown",
      "source": [
        "В первом ящике находится 8 мячей, из которых 5 - белые. Во втором ящике - 12 мячей, из которых 5 белых. Из первого ящика вытаскивают случайным образом два мяча, из второго - 4. Какова вероятность того, что 3 мяча белые?\n"
      ],
      "metadata": {
        "id": "H5ysyhheJrWI"
      }
    },
    {
      "cell_type": "code",
      "source": [
        "def combinations(n, k):\n",
        "    return fl(n) / (fl(k) * fl(n - k))\n",
        "\n",
        "P1 = (combinations(3, 2)/combinations(8, 2)) * \\\n",
        "    (combinations(5, 3)*combinations(7, 1)/combinations(12, 4))\n",
        "print(\"---------------------------------------------------------------------\")\n",
        "print(\"РЕШЕНИЕ 2. ЗАДАЧИ\")\n",
        "print(f'Вероятность события \"из первой корзины не вытащили ни одного белого мяча'\n",
        "      f', из второй вытащили 3 белых мяча\"\\nP(A1) = {P1: .4f}'\n",
        "      )\n",
        "P2 = (combinations(5, 1)*combinations(3, 1)*combinations(5, 2) *\n",
        "      combinations(7, 2))/(combinations(8, 2)*combinations(12, 4))\n",
        "print(f'Вероятность события \"из первой корзины вытащили 1 белый мяч'\n",
        "      f', из второй вытащили 2 белых мяча\"\\nP(A2) = {P2: .4f}'\n",
        "      )\n",
        "P3 = (combinations(5, 2)*combinations(5, 1)*combinations(7, 3)) / \\\n",
        "    (combinations(8, 2)*combinations(12, 4))\n",
        "print(f'Вероятность события \"из первой корзины вытащили 2 белых мяча'\n",
        "      f', из второй вытащили 1 белый мяч\"\\nP(A2) = {P3: .4f}'\n",
        "      )\n",
        "print(f'Вероятность того, что 3 мяча белые = {P1+P2+P3: .4f}')"
      ],
      "metadata": {
        "colab": {
          "base_uri": "https://localhost:8080/"
        },
        "id": "GogYO4UFL5EC",
        "outputId": "9c36bf76-88ef-4168-cbbf-31942337ec1d"
      },
      "execution_count": 11,
      "outputs": [
        {
          "output_type": "stream",
          "name": "stdout",
          "text": [
            "---------------------------------------------------------------------\n",
            "РЕШЕНИЕ 2. ЗАДАЧИ\n",
            "Вероятность события \"из первой корзины не вытащили ни одного белого мяча, из второй вытащили 3 белых мяча\"\n",
            "P(A1) =  0.0152\n",
            "Вероятность события \"из первой корзины вытащили 1 белый мяч, из второй вытащили 2 белых мяча\"\n",
            "P(A2) =  0.2273\n",
            "Вероятность события \"из первой корзины вытащили 2 белых мяча, из второй вытащили 1 белый мяч\"\n",
            "P(A2) =  0.1263\n",
            "Вероятность того, что 3 мяча белые =  0.3687\n"
          ]
        }
      ]
    },
    {
      "cell_type": "markdown",
      "source": [
        "На соревновании по биатлону один из трех спортсменов стреляет и попадает в мишень. Вероятность попадания для первого спортсмена равна 0.9, для второго — 0.8, для третьего — 0.6. Найти вероятность того, что выстрел произведен: a). первым спортсменом б). вторым спортсменом в). третьим спортсменом."
      ],
      "metadata": {
        "id": "Qbc85DOWMTBG"
      }
    },
    {
      "cell_type": "code",
      "source": [
        "A = 1/3 * 0.9 + 1/3 * 0.8 + 1/3 * 0.6\n",
        "A"
      ],
      "metadata": {
        "colab": {
          "base_uri": "https://localhost:8080/"
        },
        "id": "EkPfZVPhMyVQ",
        "outputId": "d96329c8-8fb8-46b2-f7af-403cd89d6802"
      },
      "execution_count": 15,
      "outputs": [
        {
          "output_type": "execute_result",
          "data": {
            "text/plain": [
              "0.7666666666666666"
            ]
          },
          "metadata": {},
          "execution_count": 15
        }
      ]
    },
    {
      "cell_type": "markdown",
      "source": [
        "a)"
      ],
      "metadata": {
        "id": "uZZAK--qNmNO"
      }
    },
    {
      "cell_type": "code",
      "source": [
        "(1/3 * 0.9) / A"
      ],
      "metadata": {
        "colab": {
          "base_uri": "https://localhost:8080/"
        },
        "id": "seUFarI5NtDs",
        "outputId": "e6892114-bf4e-451e-ff63-65b355c18a65"
      },
      "execution_count": 16,
      "outputs": [
        {
          "output_type": "execute_result",
          "data": {
            "text/plain": [
              "0.391304347826087"
            ]
          },
          "metadata": {},
          "execution_count": 16
        }
      ]
    },
    {
      "cell_type": "markdown",
      "source": [
        "б)"
      ],
      "metadata": {
        "id": "Gx1y68Y7N1Uk"
      }
    },
    {
      "cell_type": "code",
      "source": [
        "(1/3 * 0.8) / A"
      ],
      "metadata": {
        "colab": {
          "base_uri": "https://localhost:8080/"
        },
        "id": "TyCV8NLqN4_C",
        "outputId": "6ad991cc-88ea-4a75-b60d-6afb12cf5039"
      },
      "execution_count": 17,
      "outputs": [
        {
          "output_type": "execute_result",
          "data": {
            "text/plain": [
              "0.3478260869565218"
            ]
          },
          "metadata": {},
          "execution_count": 17
        }
      ]
    },
    {
      "cell_type": "markdown",
      "source": [
        "в)"
      ],
      "metadata": {
        "id": "cln3uO_nN9Cj"
      }
    },
    {
      "cell_type": "code",
      "source": [
        "(1/3 * 0.6) / A"
      ],
      "metadata": {
        "colab": {
          "base_uri": "https://localhost:8080/"
        },
        "id": "qotR4vlFN-go",
        "outputId": "12d41eaf-f0df-4178-8f67-a8018ce830f1"
      },
      "execution_count": 18,
      "outputs": [
        {
          "output_type": "execute_result",
          "data": {
            "text/plain": [
              "0.2608695652173913"
            ]
          },
          "metadata": {},
          "execution_count": 18
        }
      ]
    },
    {
      "cell_type": "markdown",
      "source": [
        "В университет на факультеты A и B поступило равное количество студентов, а на факультет C студентов поступило столько же, сколько на A и B вместе. Вероятность того, что студент факультета A сдаст первую сессию, равна 0.8. Для студента факультета B эта вероятность равна 0.7, а для студента факультета C - 0.9. Студент сдал первую сессию. Какова вероятность, что он учится: a). на факультете A б). на факультете B в). на факультете C?"
      ],
      "metadata": {
        "id": "0Y0JG2K3OWAb"
      }
    },
    {
      "cell_type": "code",
      "source": [
        "A = 1/4 * 0.8 + 1/4 * 0.7 + 1/2 * 0.9\n",
        "A"
      ],
      "metadata": {
        "colab": {
          "base_uri": "https://localhost:8080/"
        },
        "id": "waZiIryxOad7",
        "outputId": "e651ba4c-622f-49f4-e28f-52d5b7e301db"
      },
      "execution_count": 29,
      "outputs": [
        {
          "output_type": "execute_result",
          "data": {
            "text/plain": [
              "0.825"
            ]
          },
          "metadata": {},
          "execution_count": 29
        }
      ]
    },
    {
      "cell_type": "markdown",
      "source": [
        "a). на факультете A"
      ],
      "metadata": {
        "id": "wcCLU_ZDOrGA"
      }
    },
    {
      "cell_type": "code",
      "source": [
        "(1/4 * 0.8) / A"
      ],
      "metadata": {
        "colab": {
          "base_uri": "https://localhost:8080/"
        },
        "id": "Jop3FNyTO-Hj",
        "outputId": "05918acd-6771-4e20-e398-d10e63ed7420"
      },
      "execution_count": 30,
      "outputs": [
        {
          "output_type": "execute_result",
          "data": {
            "text/plain": [
              "0.24242424242424246"
            ]
          },
          "metadata": {},
          "execution_count": 30
        }
      ]
    },
    {
      "cell_type": "markdown",
      "source": [
        "б). на факультете B"
      ],
      "metadata": {
        "id": "6D9-WqptPF5_"
      }
    },
    {
      "cell_type": "code",
      "source": [
        "(1/4 * 0.7) / A"
      ],
      "metadata": {
        "colab": {
          "base_uri": "https://localhost:8080/"
        },
        "id": "CQF2PeNWPMTm",
        "outputId": "cede8ad4-1cf3-410c-85c9-55d6adf393a3"
      },
      "execution_count": 31,
      "outputs": [
        {
          "output_type": "execute_result",
          "data": {
            "text/plain": [
              "0.21212121212121213"
            ]
          },
          "metadata": {},
          "execution_count": 31
        }
      ]
    },
    {
      "cell_type": "markdown",
      "source": [
        " в). на факультете C"
      ],
      "metadata": {
        "id": "to13rpwzPXIg"
      }
    },
    {
      "cell_type": "code",
      "source": [
        "(1/2 * 0.9) / A"
      ],
      "metadata": {
        "colab": {
          "base_uri": "https://localhost:8080/"
        },
        "id": "5J-s3lDfPdRe",
        "outputId": "547768d0-4280-40c3-c2e7-28b2a76822a2"
      },
      "execution_count": 23,
      "outputs": [
        {
          "output_type": "execute_result",
          "data": {
            "text/plain": [
              "0.5454545454545455"
            ]
          },
          "metadata": {},
          "execution_count": 23
        }
      ]
    },
    {
      "cell_type": "markdown",
      "source": [
        "Устройство состоит из трех деталей. Для первой детали вероятность выйти из строя в первый месяц равна 0.1, для второй - 0.2, для третьей - 0.25. Какова вероятность того, что в первый месяц выйдут из строя: а). все детали б). только две детали в). хотя бы одна деталь г). от одной до двух деталей?"
      ],
      "metadata": {
        "id": "s08ZeINPQCfJ"
      }
    },
    {
      "cell_type": "markdown",
      "source": [
        "\n",
        " а). все детали"
      ],
      "metadata": {
        "id": "jkq0kHALUvLS"
      }
    },
    {
      "cell_type": "code",
      "source": [
        "A3 = 0.1*0.2*0.25"
      ],
      "metadata": {
        "id": "CD7TOtsQQD03"
      },
      "execution_count": 32,
      "outputs": []
    },
    {
      "cell_type": "code",
      "source": [
        "print(f'A3 = {A3}')"
      ],
      "metadata": {
        "colab": {
          "base_uri": "https://localhost:8080/"
        },
        "id": "6gSeU-e7TBHI",
        "outputId": "79a942e4-8bb7-4b9a-9b25-9bef046d71d8"
      },
      "execution_count": 37,
      "outputs": [
        {
          "output_type": "stream",
          "name": "stdout",
          "text": [
            "A3 = 0.005000000000000001\n"
          ]
        }
      ]
    },
    {
      "cell_type": "markdown",
      "source": [
        "б). только две детали"
      ],
      "metadata": {
        "id": "2bFXGoV9U4ho"
      }
    },
    {
      "cell_type": "code",
      "source": [
        "A2 = 0.1*0.2*0.75+0.1*0.25*0.8+0.2*0.25*0.9"
      ],
      "metadata": {
        "id": "jpu3cIwVR2xP"
      },
      "execution_count": 33,
      "outputs": []
    },
    {
      "cell_type": "code",
      "source": [
        "print(f'A2 = {A2}')"
      ],
      "metadata": {
        "colab": {
          "base_uri": "https://localhost:8080/"
        },
        "id": "k9AaLd7bTpXS",
        "outputId": "14fa8cc5-c83c-4022-c82f-f122591becb0"
      },
      "execution_count": 38,
      "outputs": [
        {
          "output_type": "stream",
          "name": "stdout",
          "text": [
            "A2 = 0.08000000000000002\n"
          ]
        }
      ]
    },
    {
      "cell_type": "markdown",
      "source": [
        "в). хотя бы одна"
      ],
      "metadata": {
        "id": "Lt1m-SAiVHoz"
      }
    },
    {
      "cell_type": "code",
      "source": [
        "A1 = 0.1*0.8*0.75+0.2*0.9*0.75+0.25*0.9*0.8"
      ],
      "metadata": {
        "id": "J-lOW8-MSB-W"
      },
      "execution_count": 34,
      "outputs": []
    },
    {
      "cell_type": "code",
      "source": [
        "print(f'A1 = {A1}')"
      ],
      "metadata": {
        "colab": {
          "base_uri": "https://localhost:8080/"
        },
        "id": "0RihuPM5TzpF",
        "outputId": "317b9e8b-5afd-43f8-db86-aa2664804bf2"
      },
      "execution_count": 39,
      "outputs": [
        {
          "output_type": "stream",
          "name": "stdout",
          "text": [
            "A1 = 0.375\n"
          ]
        }
      ]
    },
    {
      "cell_type": "markdown",
      "source": [
        "ни одной детали"
      ],
      "metadata": {
        "id": "1NI7EP-kVuCi"
      }
    },
    {
      "cell_type": "code",
      "source": [
        "A0 = 0.9*0.8*0.75"
      ],
      "metadata": {
        "id": "U92mCjgOSKQD"
      },
      "execution_count": 40,
      "outputs": []
    },
    {
      "cell_type": "code",
      "source": [
        "print(f'A0 = {A0}')"
      ],
      "metadata": {
        "colab": {
          "base_uri": "https://localhost:8080/"
        },
        "id": "D5nScgseT5YU",
        "outputId": "849ab132-17a1-459a-9a11-2575b6c0c3b8"
      },
      "execution_count": 41,
      "outputs": [
        {
          "output_type": "stream",
          "name": "stdout",
          "text": [
            "A0 = 0.54\n"
          ]
        }
      ]
    },
    {
      "cell_type": "markdown",
      "source": [
        " г). от одной до двух деталей"
      ],
      "metadata": {
        "id": "Vc6mEY08VYlw"
      }
    },
    {
      "cell_type": "code",
      "source": [
        "A_0 = 1-A0"
      ],
      "metadata": {
        "id": "cdIVZWRbSWPs"
      },
      "execution_count": 36,
      "outputs": []
    },
    {
      "cell_type": "code",
      "source": [
        "print(f'A_0 = {A_0}')"
      ],
      "metadata": {
        "colab": {
          "base_uri": "https://localhost:8080/"
        },
        "id": "qX51RkN9UBC1",
        "outputId": "a4e12b08-4b8a-408f-b112-e68834e8dfd1"
      },
      "execution_count": 42,
      "outputs": [
        {
          "output_type": "stream",
          "name": "stdout",
          "text": [
            "A_0 = 0.45999999999999996\n"
          ]
        }
      ]
    }
  ]
}