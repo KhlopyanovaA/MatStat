{
  "cells": [
    {
      "cell_type": "markdown",
      "metadata": {
        "id": "view-in-github",
        "colab_type": "text"
      },
      "source": [
        "<a href=\"https://colab.research.google.com/github/KhlopyanovaA/MatStat/blob/main/TViMS_DZ6.ipynb\" target=\"_parent\"><img src=\"https://colab.research.google.com/assets/colab-badge.svg\" alt=\"Open In Colab\"/></a>"
      ]
    },
    {
      "cell_type": "markdown",
      "metadata": {
        "id": "G3cYGtLaQA8j"
      },
      "source": [
        "1.Известно, что генеральная совокупность распределена нормально со средним квадратическим отклонением, равным 16.\n",
        "Найти доверительный интервал для оценки математического ожидания a с надежностью 0.95, если выборочная средняя M = 80, а объем выборки n = 256."
      ]
    },
    {
      "cell_type": "code",
      "execution_count": 2,
      "metadata": {
        "id": "SslFPnfZQA8x"
      },
      "outputs": [],
      "source": [
        "import numpy as np\n",
        "from scipy import stats"
      ]
    },
    {
      "cell_type": "code",
      "execution_count": 3,
      "metadata": {
        "id": "HjKQ4GSgQA85"
      },
      "outputs": [],
      "source": [
        "sigma = 16\n",
        "p = 0.95\n",
        "m = 80\n",
        "n = 256\n",
        "alpha = 0.05\n",
        "z = stats.norm.ppf(alpha/2)"
      ]
    },
    {
      "cell_type": "code",
      "execution_count": 4,
      "metadata": {
        "colab": {
          "base_uri": "https://localhost:8080/"
        },
        "id": "al--nBHsQA88",
        "outputId": "5bbfad34-58e6-4289-b9f5-6eb8141587a1"
      },
      "outputs": [
        {
          "output_type": "stream",
          "name": "stdout",
          "text": [
            ">>> Доверительный интервал: [78.04 ; 81.96].\n"
          ]
        }
      ],
      "source": [
        "l_border=80-1.96*16/256**0.5\n",
        "r_border=80+1.96*16/256**0.5\n",
        "print(f'>>> Доверительный интервал: [{l_border} ; {r_border}].')"
      ]
    },
    {
      "cell_type": "markdown",
      "metadata": {
        "id": "QRN6w7hzQA9C"
      },
      "source": [
        "2.В результате 10 независимых измерений некоторой величины X, выполненных с одинаковой точностью, получены опытные данные:\n",
        "6.9, 6.1, 6.2, 6.8, 7.5, 6.3, 6.4, 6.9, 6.7, 6.1\n",
        "Предполагая, что результаты измерений подчинены нормальному закону распределения вероятностей, оценить истинное значение величины X при помощи доверительного интервала, покрывающего это значение с доверительной вероятностью 0,95."
      ]
    },
    {
      "cell_type": "code",
      "execution_count": 5,
      "metadata": {
        "id": "5PCNiCCLQA9D"
      },
      "outputs": [],
      "source": [
        "n = 10\n",
        "X = np.array([6.9, 6.1, 6.2, 6.8, 7.5, 6.3, 6.4, 6.9, 6.7, 6.1])\n",
        "M = X.mean()\n",
        "std = X.std(ddof=1)\n",
        "alpha = 0.05\n",
        "t = stats.t.ppf(1-alpha/2, df=n-1)"
      ]
    },
    {
      "cell_type": "code",
      "execution_count": 8,
      "metadata": {
        "colab": {
          "base_uri": "https://localhost:8080/"
        },
        "id": "bYnZJMI0QA9F",
        "outputId": "5d3e4ed9-e8f7-4b39-b48a-f94987dcb8b8"
      },
      "outputs": [
        {
          "output_type": "execute_result",
          "data": {
            "text/plain": [
              "(6.27, 6.91)"
            ]
          },
          "metadata": {},
          "execution_count": 8
        }
      ],
      "source": [
        "(round(M - t * std / n ** 0.5, 2), round(M + t * std / n ** 0.5, 2))"
      ]
    },
    {
      "cell_type": "markdown",
      "metadata": {
        "id": "xxrn5fAyQA9H"
      },
      "source": [
        "3.Рост дочерей 175, 167, 154, 174, 178, 148, 160, 167, 169, 170\n",
        "Рост матерей  178, 165, 165, 173, 168, 155, 160, 164, 178, 175\n",
        "Используя эти данные построить 95% доверительный интервал для разности среднего роста родителей и детей."
      ]
    },
    {
      "cell_type": "code",
      "execution_count": 9,
      "metadata": {
        "id": "EZ_eSymeQA9J"
      },
      "outputs": [],
      "source": [
        "mothers = np.array([178, 165, 165, 173, 168, 155, 160, 164, 178, 175])\n",
        "daughters = np.array([175, 167, 154, 174, 178, 148, 160, 167, 169, 170])"
      ]
    },
    {
      "cell_type": "markdown",
      "metadata": {
        "id": "eRYruGITQA9K"
      },
      "source": [
        "Интервальная оценка для разности средних арифметических по формуле:\n",
        "\n",
        "$\\bar{x}_1 - \\bar{x}2 \\pm t{\\frac{\\alpha}{2}} \\sqrt{\\frac{s_1^2}{n_1} + \\frac{s_2^2}{n_2}}$\n",
        "\n",
        "где:  \n",
        "$\\bar{x}_1$ - среднее арифметическое в группе 1  \n",
        "$\\bar{x}2$ - среднее арифметическое в группе 2  \n",
        "$s_1^2$ - дисперсия в группе 1  \n",
        "$s_2^2$ - дисперсия в группе 2  \n",
        "$n_1$ - число элементов в группе 1  \n",
        "$n_2$ - число элементов в группе 2  "
      ]
    },
    {
      "cell_type": "code",
      "execution_count": 10,
      "metadata": {
        "id": "bvQf9XldQA9M"
      },
      "outputs": [],
      "source": [
        "x_1 = np.mean(mothers)\n",
        "x_2 = np.mean(daughters)\n",
        "delta = x_1 - x_2"
      ]
    },
    {
      "cell_type": "code",
      "execution_count": 11,
      "metadata": {
        "id": "hP4STiS3QA9N"
      },
      "outputs": [],
      "source": [
        "n = len(mothers)\n",
        "D1 = np.var(mothers, ddof = 1)\n",
        "D2 = np.var(daughters, ddof = 1)\n",
        "D = (D1 + D2) / 2\n",
        "SE = np.sqrt(D/n + D/n)\n",
        "t = stats.t.ppf(0.975, 2 * (n - 1))\n",
        "result = (delta - t*SE, delta + t*SE)"
      ]
    },
    {
      "cell_type": "code",
      "execution_count": 12,
      "metadata": {
        "colab": {
          "base_uri": "https://localhost:8080/"
        },
        "id": "3bWAhxLjQA9P",
        "outputId": "1cda5614-9428-4a3f-f2d0-2db064d1945b"
      },
      "outputs": [
        {
          "output_type": "stream",
          "name": "stdout",
          "text": [
            "95% доверительный интервал для разности среднего роста родителей и детей = (-6.268418034506846, 10.068418034506857)\n"
          ]
        }
      ],
      "source": [
        "print(f\"95% доверительный интервал для разности среднего роста родителей и детей = {result}\")"
      ]
    }
  ],
  "metadata": {
    "kernelspec": {
      "display_name": "Python 3",
      "language": "python",
      "name": "python3"
    },
    "language_info": {
      "codemirror_mode": {
        "name": "ipython",
        "version": 3
      },
      "file_extension": ".py",
      "mimetype": "text/x-python",
      "name": "python",
      "nbconvert_exporter": "python",
      "pygments_lexer": "ipython3",
      "version": "3.11.0"
    },
    "orig_nbformat": 4,
    "colab": {
      "provenance": [],
      "include_colab_link": true
    }
  },
  "nbformat": 4,
  "nbformat_minor": 0
}