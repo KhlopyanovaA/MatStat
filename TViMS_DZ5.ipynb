{
  "cells": [
    {
      "cell_type": "markdown",
      "metadata": {
        "id": "view-in-github",
        "colab_type": "text"
      },
      "source": [
        "<a href=\"https://colab.research.google.com/github/KhlopyanovaA/MatStat/blob/main/TViMS_DZ5.ipynb\" target=\"_parent\"><img src=\"https://colab.research.google.com/assets/colab-badge.svg\" alt=\"Open In Colab\"/></a>"
      ]
    },
    {
      "cell_type": "markdown",
      "metadata": {
        "id": "j9DxrJN_coiN"
      },
      "source": [
        "1.Когда используется критерий Стьюдента, а когда Z –критерий?\n",
        "\n",
        "Z-критерий\n",
        "Закон Z-критерия используется для проверки гипотезы о равенстве среднего значения генеральной совокупности с известным значением.\n",
        "Данный критерий используется для проверки гипотезы о нормальности распределения данных в выборке с известным значением среднего значения.Это позволяет оценить точность среднего значения измерения в генеральной совокупности, а также понять, насколько данные в выборке представляют собой нормальное распределение.\n",
        "\n",
        "t-критерий\n",
        "Критерий Стьюдента используется для сравнения средних значений двух групп. Также его можно использовать для сравнения средних значений двух выборок, если данные для двух групп распределены нормально.\n",
        "Закон Стьюдента позволяет оценить то, насколько средние значения двух групп отличаются.\n"
      ]
    },
    {
      "cell_type": "markdown",
      "metadata": {
        "id": "lW9xek1gcoiT"
      },
      "source": [
        "2.Проведите тест гипотезы. Утверждается, что шарики для подшипников, изготовленные автоматическим станком, имеют средний диаметр 17 мм. Используя односторонний критерий с α=0,05, проверить эту гипотезу, если в выборке из n=100 шариков средний диаметр оказался равным 17.5 мм, а дисперсия известна и равна 4 кв. мм."
      ]
    },
    {
      "cell_type": "markdown",
      "metadata": {
        "id": "VBD1TriocoiV"
      },
      "source": [
        "Сформулируем нулевую гипотезу:  \n",
        "$H0: \\mu=\\mu_0=17$, где $\\mu$ и $\\mu_0$ средние выборки и генеральной совокупности и выборки, соответственно.  \n",
        "Альтернативная гипотеза:  \n",
        "$H1: \\mu>\\mu_0$  \n",
        "Поскольку нам известны и среднее и дисперсия генеральной совокупности, то для проверки гипотезы будем использовать $z$-критерий.  \n",
        "$z_н=\\frac{\\bar X-\\mu_0}{\\sigma/\\sqrt n}$, где  \n",
        "$\\bar X=\\mu=17.5$ среднее по выборке,  \n",
        "$\\sigma=\\sqrt 4=2$ среднее квадратическое отклонение генеральной совокупности,  \n",
        "$n=100$ размер выборки.  "
      ]
    },
    {
      "cell_type": "code",
      "execution_count": null,
      "metadata": {
        "id": "j1NNGNB6coiW",
        "outputId": "f62c10a0-1d01-4d96-974b-b4f63f1b8e6c"
      },
      "outputs": [
        {
          "name": "stdout",
          "output_type": "stream",
          "text": [
            "Наблюдаемое значение z-критерия:  2.5000\n"
          ]
        }
      ],
      "source": [
        "import numpy as np\n",
        "import scipy.stats as stats\n",
        "z=(17.5-17)/0.2\n",
        "print(f'Наблюдаемое значение z-критерия: {z: .4f}')"
      ]
    },
    {
      "cell_type": "markdown",
      "metadata": {
        "id": "t9_OZHFocoib"
      },
      "source": [
        "Найдём табличные значения z- критерияб для а = 0.05"
      ]
    },
    {
      "cell_type": "code",
      "execution_count": null,
      "metadata": {
        "id": "SMbGiPIrcoic",
        "outputId": "c1c35d54-a229-4b7d-b3c1-a24dbe2a827c"
      },
      "outputs": [
        {
          "name": "stdout",
          "output_type": "stream",
          "text": [
            "Табличное значение z-критерия:  1.6449\n"
          ]
        }
      ],
      "source": [
        "zt=stats.norm.ppf(0.95)\n",
        "print(f'Табличное значение z-критерия: {zt: .4f}')"
      ]
    },
    {
      "cell_type": "markdown",
      "metadata": {
        "id": "p3nheBlfcoid"
      },
      "source": [
        "Cравним полученные значения:"
      ]
    },
    {
      "cell_type": "code",
      "execution_count": null,
      "metadata": {
        "id": "DiQPTtafcoie",
        "outputId": "19d01fca-59d5-44c9-a00f-f90f0e20f53e"
      },
      "outputs": [
        {
          "data": {
            "text/plain": [
              "False"
            ]
          },
          "execution_count": 11,
          "metadata": {},
          "output_type": "execute_result"
        }
      ],
      "source": [
        "z<zt"
      ]
    },
    {
      "cell_type": "markdown",
      "metadata": {
        "id": "InIMCyrIcoih"
      },
      "source": [
        "Поскольку $z_н>z_t$, **отвергаем** нулевую гипотезу на уровне значимости $\\alpha=0.05$"
      ]
    },
    {
      "cell_type": "markdown",
      "metadata": {
        "id": "_Kn_60AKcoii"
      },
      "source": [
        "3.Проведите тест гипотезы. Продавец утверждает, что средний вес пачки печенья составляет 200 г.\n",
        "Из партии извлечена выборка из 10 пачек. Вес каждой пачки составляет:\n",
        "202, 203, 199, 197, 195, 201, 200, 204, 194, 190.\n",
        "Известно, что их веса распределены нормально.\n",
        "Верно ли утверждение продавца, если учитывать, что доверительная вероятность равна 99%? (Провести двусторонний тест.)"
      ]
    },
    {
      "cell_type": "markdown",
      "metadata": {
        "id": "AFONsAI6coik"
      },
      "source": [
        "Из условия задачи следует что нужно проводить проверку следующих гипотез:  \n",
        "$H0: \\mu=\\mu_0=200$, где $\\mu$ и $\\mu_0$ средние выборки и генеральной совокупности и выборки, соответственно.  \n",
        "Альтернативная гипотеза:  \n",
        "$H1: \\mu\\neq\\mu_0$  \n",
        "при этом будем использовать **двусторонний** критерий c уровнем значимости $\\alpha=1-0.99=0.01$  \n",
        "Поскольку нам не известны ни среднее, ни дисперсия генеральной совокупности, то для проверки гипотезы будем использовать $t$-критерий.    "
      ]
    },
    {
      "cell_type": "code",
      "execution_count": null,
      "metadata": {
        "id": "yTKhBF7fcoim"
      },
      "outputs": [],
      "source": [
        "cookies=np.array([202, 203, 199, 197, 195, 201, 200, 204, 194, 190])"
      ]
    },
    {
      "cell_type": "markdown",
      "metadata": {
        "id": "la2aUQizcoio"
      },
      "source": [
        "Расчитаем наблюдаемое значение t-критерия $t_н$"
      ]
    },
    {
      "cell_type": "code",
      "execution_count": null,
      "metadata": {
        "id": "XqRbXUdWcoip",
        "outputId": "352b6378-d705-483d-d914-e62e8154c444"
      },
      "outputs": [
        {
          "name": "stdout",
          "output_type": "stream",
          "text": [
            "Наблюдаемое значение t-критерия: -1.0651\n"
          ]
        }
      ],
      "source": [
        "tn=(np.mean(cookies)-200)/(np.std(cookies,ddof=1)/len(cookies)**0.5)\n",
        "print(f'Наблюдаемое значение t-критерия: {tn: .4f}')"
      ]
    },
    {
      "cell_type": "markdown",
      "metadata": {
        "id": "ZS138btxcoir"
      },
      "source": [
        "Найдем табличное значение $t$-критерия $t_t$, для $\\alpha/2=0.01/2=0.005$"
      ]
    },
    {
      "cell_type": "code",
      "execution_count": null,
      "metadata": {
        "id": "ab9SWj54cois",
        "outputId": "e5aa2b3c-e94f-4419-c00c-11c2b07fa414"
      },
      "outputs": [
        {
          "name": "stdout",
          "output_type": "stream",
          "text": [
            "Табличное значение t-критерия:  3.2498\n"
          ]
        }
      ],
      "source": [
        "tt=stats.t.ppf(0.995,len(cookies)-1)\n",
        "print(f'Табличное значение t-критерия: {tt: .4f}')"
      ]
    },
    {
      "cell_type": "markdown",
      "metadata": {
        "id": "fRq1FD54coiu"
      },
      "source": [
        "Сравним полученные значения (поскольку у нас двусторонний критерий, то используем абсолютное значение полученного t-критерия):"
      ]
    },
    {
      "cell_type": "code",
      "execution_count": null,
      "metadata": {
        "id": "0vZYxQLFcoiv",
        "outputId": "4de9093b-90c4-4517-f0d4-88c918b89846"
      },
      "outputs": [
        {
          "data": {
            "text/plain": [
              "True"
            ]
          },
          "execution_count": 15,
          "metadata": {},
          "output_type": "execute_result"
        }
      ],
      "source": [
        "np.abs(tn) < tt\n"
      ]
    },
    {
      "cell_type": "markdown",
      "metadata": {
        "id": "sx9RaDvBcoix"
      },
      "source": [
        "Поскольку $|t_н|<t_t$, **принимаем** нулевую гипотезу на уровне значимости $\\alpha=0.01$\n",
        "\n",
        " Ответ:  \n",
        "**Принимаем** нулевую гипотезу $H0: \\mu_0=200$ на уровне значимости $\\alpha=0.01$  \n"
      ]
    },
    {
      "cell_type": "markdown",
      "metadata": {
        "id": "HZop2gk3coiy"
      },
      "source": [
        "4.Есть ли статистически значимые различия в росте дочерей?\n",
        "Рост матерей 172, 177, 158, 170, 178,175, 164, 160, 169, 165\n",
        "Рост взрослых дочерей: 173, 175, 162, 174, 175, 168, 155, 170, 160"
      ]
    },
    {
      "cell_type": "code",
      "execution_count": null,
      "metadata": {
        "id": "Mb3OToLDcoiz",
        "outputId": "0c38efb4-746e-42f1-ba5d-234ded3729be"
      },
      "outputs": [
        {
          "data": {
            "text/plain": [
              "TtestResult(statistic=0.7600960972356129, pvalue=0.4666409664265907, df=9)"
            ]
          },
          "execution_count": 16,
          "metadata": {},
          "output_type": "execute_result"
        }
      ],
      "source": [
        "mothers = [172, 177, 158, 170, 178, 175, 164, 160, 169, 165]\n",
        "daughters = [173, 175, 162, 174, 175, 168, 155, 170, 160,161]\n",
        "\n",
        "stats.ttest_rel(mothers, daughters)\n"
      ]
    }
  ],
  "metadata": {
    "kernelspec": {
      "display_name": "Python 3",
      "language": "python",
      "name": "python3"
    },
    "language_info": {
      "codemirror_mode": {
        "name": "ipython",
        "version": 3
      },
      "file_extension": ".py",
      "mimetype": "text/x-python",
      "name": "python",
      "nbconvert_exporter": "python",
      "pygments_lexer": "ipython3",
      "version": "3.11.0"
    },
    "orig_nbformat": 4,
    "vscode": {
      "interpreter": {
        "hash": "6641ca626583961b37be56eae36e98ad80dedd33588dc62353bf94135308980f"
      }
    },
    "colab": {
      "provenance": [],
      "include_colab_link": true
    }
  },
  "nbformat": 4,
  "nbformat_minor": 0
}